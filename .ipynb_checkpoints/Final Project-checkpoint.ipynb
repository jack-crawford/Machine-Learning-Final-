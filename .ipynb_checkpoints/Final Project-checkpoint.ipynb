{
 "cells": [
  {
   "cell_type": "code",
   "execution_count": 18,
   "metadata": {},
   "outputs": [],
   "source": [
    "import pandas as pd\n",
    "import numpy\n",
    "\n",
    "#learning stuff\n",
    "from sklearn import neighbors\n",
    "from sklearn import svm\n",
    "from sklearn.model_selection import train_test_split\n",
    "from sklearn.decomposition import PCA\n",
    "from sklearn.cluster import KMeans\n",
    "from sklearn.mixture import GaussianMixture\n",
    "\n",
    "#graphing stuff!\n",
    "%matplotlib notebook\n",
    "import matplotlib as mpl\n",
    "import matplotlib.pyplot as plt\n",
    "import matplotlib.patches as mpatches"
   ]
  },
  {
   "cell_type": "code",
   "execution_count": 15,
   "metadata": {},
   "outputs": [],
   "source": [
    "data = pd.read_excel('DataRefined.xlsx')\n",
    "#note, data is a pandas DataFrame\n",
    "data_array = data.values\n",
    "#data_array is a bit easier to access - each value can be accessed with data_array[x]"
   ]
  },
  {
   "cell_type": "code",
   "execution_count": 16,
   "metadata": {},
   "outputs": [
    {
     "name": "stdout",
     "output_type": "stream",
     "text": [
      "   track_id  acousticness  danceability    energy  instrumentalness  liveness  \\\n",
      "0     19469      0.078285      0.314572  0.309468          0.089045  0.354460   \n",
      "1     26170      0.907184      0.608202  0.487272          0.952051  0.147523   \n",
      "2      3628      0.902820      0.417216  0.192552          0.941335  0.103392   \n",
      "3      4005      0.514903      0.297365  0.716660          0.884307  0.164822   \n",
      "4     11891      0.420525      0.419414  0.800006          0.917086  0.188013   \n",
      "\n",
      "   speechiness    tempo   valence      artist_name  \\\n",
      "0     0.051375  127.856  0.212025       Deerhunter   \n",
      "1     0.055712  127.945  0.655503      Monk Turner   \n",
      "2     0.034817  110.647  0.114613      Fern Knight   \n",
      "3     0.045856  157.893  0.704008  MORS ONTOLOGICA   \n",
      "4     0.046945   98.782  0.856437       Wildabeast   \n",
      "\n",
      "                                           track_url  happysad  calmenergetic  \\\n",
      "0  http://freemusicarchive.org/music/Barry_Chabal...       NaN            NaN   \n",
      "1  http://freemusicarchive.org/music/Big_Blood/Al...       NaN            NaN   \n",
      "2  http://freemusicarchive.org/music/People_Like_...       NaN            NaN   \n",
      "3  http://freemusicarchive.org/music/So_Cow/20120...       NaN            NaN   \n",
      "4  http://freemusicarchive.org/music/Reed_Miller/...       NaN            NaN   \n",
      "\n",
      "   trainortest    random  \n",
      "0          NaN  0.026041  \n",
      "1          NaN  0.633815  \n",
      "2          NaN  0.817753  \n",
      "3          NaN  0.980567  \n",
      "4          NaN  0.169986  \n",
      "[19469 0.0782847905 0.3145720836 0.3094678407 0.0890453704 0.3544597401\n",
      " 0.0513748433 127.856 0.2120248415 'Deerhunter'\n",
      " 'http://freemusicarchive.org/music/Barry_Chabala/Feedback/new_improved_lowfat_eric'\n",
      " nan nan nan 0.02604127702184378]\n"
     ]
    }
   ],
   "source": [
    "print(data.head())"
   ]
  },
  {
   "cell_type": "code",
   "execution_count": 17,
   "metadata": {},
   "outputs": [
    {
     "name": "stdout",
     "output_type": "stream",
     "text": [
      "[19469 0.0782847905 0.3145720836 0.3094678407 0.0890453704 0.3544597401\n",
      " 0.0513748433 127.856 0.2120248415 'Deerhunter'\n",
      " 'http://freemusicarchive.org/music/Barry_Chabala/Feedback/new_improved_lowfat_eric'\n",
      " nan nan nan 0.02604127702184378]\n"
     ]
    }
   ],
   "source": [
    "print(data_array[0])"
   ]
  },
  {
   "cell_type": "code",
   "execution_count": null,
   "metadata": {},
   "outputs": [],
   "source": []
  }
 ],
 "metadata": {
  "kernelspec": {
   "display_name": "Python 3",
   "language": "python",
   "name": "python3"
  },
  "language_info": {
   "codemirror_mode": {
    "name": "ipython",
    "version": 3
   },
   "file_extension": ".py",
   "mimetype": "text/x-python",
   "name": "python",
   "nbconvert_exporter": "python",
   "pygments_lexer": "ipython3",
   "version": "3.6.5"
  }
 },
 "nbformat": 4,
 "nbformat_minor": 2
}
