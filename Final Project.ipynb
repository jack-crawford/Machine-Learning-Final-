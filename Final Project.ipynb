{
 "cells": [
  {
   "cell_type": "code",
   "execution_count": 1,
   "metadata": {},
   "outputs": [],
   "source": [
    "import pandas as pd\n",
    "import numpy\n",
    "\n",
    "#learning stuff\n",
    "from sklearn import neighbors\n",
    "from sklearn import svm\n",
    "from sklearn.model_selection import train_test_split\n",
    "from sklearn.decomposition import PCA\n",
    "from sklearn.cluster import KMeans\n",
    "from sklearn.mixture import GaussianMixture\n",
    "\n",
    "#graphing stuff!\n",
    "%matplotlib notebook\n",
    "import matplotlib as mpl\n",
    "import matplotlib.pyplot as plt\n",
    "import matplotlib.patches as mpatches"
   ]
  },
  {
   "cell_type": "markdown",
   "metadata": {},
   "source": [
    "Note: I reduced the dataset to a nice round 10 thousand"
   ]
  },
  {
   "cell_type": "code",
   "execution_count": 2,
   "metadata": {},
   "outputs": [],
   "source": [
    "data = pd.read_excel('DataRefined.xlsx')\n",
    "#data is a pandas DataFrame\n",
    "\n",
    "#soundData is trimmed DataFrame that only contains song metadata\n",
    "soundData = data.drop(columns=['artist_name', 'track_url', 'happysad', 'calmenergetic', 'trainortest', 'random', 'PCA output?', 'track_id'])\n",
    "soundData.fillna(0)\n",
    "\n",
    "data_array = data.values\n",
    "#data_array is a bit easier to think about - each value can be accessed with data_array[x]"
   ]
  },
  {
   "cell_type": "code",
   "execution_count": 28,
   "metadata": {},
   "outputs": [],
   "source": [
    "#print(soundData.head())"
   ]
  },
  {
   "cell_type": "code",
   "execution_count": 4,
   "metadata": {},
   "outputs": [],
   "source": [
    "#print(data_array[0])"
   ]
  },
  {
   "cell_type": "code",
   "execution_count": 5,
   "metadata": {},
   "outputs": [],
   "source": [
    "#data.shape"
   ]
  },
  {
   "cell_type": "code",
   "execution_count": 6,
   "metadata": {},
   "outputs": [],
   "source": [
    "#data_array[:5]"
   ]
  },
  {
   "cell_type": "markdown",
   "metadata": {},
   "source": [
    "Goal here: PCA "
   ]
  },
  {
   "cell_type": "code",
   "execution_count": 24,
   "metadata": {},
   "outputs": [],
   "source": [
    "pca = PCA(n_components = 1)\n",
    "numpy.nan_to_num(soundData)\n",
    "numpy.isfinite(soundData).all()\n",
    "\n",
    "#these columsn occasionally have empty values so here we just set them to 0\n",
    "for index, row in soundData.iterrows():\n",
    "    if(not numpy.isfinite(row[\"danceability\"])):\n",
    "       row[\"danceability\"] = 0 \n",
    "    if(not numpy.isfinite(row[\"speechiness\"])):\n",
    "       row[\"speechiness\"] = 0 \n",
    "    if(not numpy.isfinite(row[\"valence\"])):\n",
    "       row[\"valence\"] = 0 \n",
    "eigenbasis = pca.fit(soundData)\n"
   ]
  },
  {
   "cell_type": "code",
   "execution_count": 25,
   "metadata": {},
   "outputs": [],
   "source": [
    "dataReduced = eigenbasis.transform(soundData)"
   ]
  },
  {
   "cell_type": "code",
   "execution_count": 26,
   "metadata": {},
   "outputs": [
    {
     "data": {
      "text/plain": [
       "(10000, 1)"
      ]
     },
     "execution_count": 26,
     "metadata": {},
     "output_type": "execute_result"
    }
   ],
   "source": [
    "dataReduced.shape"
   ]
  },
  {
   "cell_type": "code",
   "execution_count": 27,
   "metadata": {},
   "outputs": [
    {
     "data": {
      "text/plain": [
       "array([[  4.97565375],\n",
       "       [  5.06488366],\n",
       "       [-12.23413748],\n",
       "       [ 35.01374082],\n",
       "       [-24.09670909],\n",
       "       [-23.89830834],\n",
       "       [-13.23870497],\n",
       "       [ 17.21177759],\n",
       "       [ 10.24802095],\n",
       "       [  3.13282303]])"
      ]
     },
     "execution_count": 27,
     "metadata": {},
     "output_type": "execute_result"
    }
   ],
   "source": [
    "dataReduced[:10]"
   ]
  },
  {
   "cell_type": "code",
   "execution_count": null,
   "metadata": {},
   "outputs": [],
   "source": []
  }
 ],
 "metadata": {
  "kernelspec": {
   "display_name": "Python 3",
   "language": "python",
   "name": "python3"
  },
  "language_info": {
   "codemirror_mode": {
    "name": "ipython",
    "version": 3
   },
   "file_extension": ".py",
   "mimetype": "text/x-python",
   "name": "python",
   "nbconvert_exporter": "python",
   "pygments_lexer": "ipython3",
   "version": "3.6.5"
  }
 },
 "nbformat": 4,
 "nbformat_minor": 2
}
