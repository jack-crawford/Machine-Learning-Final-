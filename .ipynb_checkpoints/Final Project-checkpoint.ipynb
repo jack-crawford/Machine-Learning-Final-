{
 "cells": [
  {
   "cell_type": "code",
   "execution_count": 1,
   "metadata": {},
   "outputs": [],
   "source": [
    "import pandas as pd\n",
    "import numpy\n",
    "\n",
    "#learning stuff\n",
    "from sklearn import neighbors\n",
    "from sklearn import svm\n",
    "from sklearn.model_selection import train_test_split\n",
    "from sklearn.decomposition import PCA\n",
    "from sklearn.cluster import KMeans\n",
    "from sklearn.mixture import GaussianMixture\n",
    "\n",
    "#graphing stuff!\n",
    "%matplotlib notebook\n",
    "import matplotlib as mpl\n",
    "import matplotlib.pyplot as plt\n",
    "import matplotlib.patches as mpatches"
   ]
  },
  {
   "cell_type": "markdown",
   "metadata": {},
   "source": [
    "Note: I reduced the dataset to a nice round 10 thousand"
   ]
  },
  {
   "cell_type": "code",
   "execution_count": 2,
   "metadata": {},
   "outputs": [],
   "source": [
    "data = pd.read_excel('DataRefined.xlsx')\n",
    "#data is a pandas DataFrame\n",
    "\n",
    "#soundData is trimmed DataFrame that only contains song metadata\n",
    "soundData = data.drop(columns=['artist_name', 'track_url', 'happysad', 'calmenergetic', 'trainortest', 'random', 'PCA output?', 'track_id'])\n",
    "soundData.fillna(0)\n",
    "\n",
    "data_array = data.values\n",
    "#data_array is a bit easier to think about - each value can be accessed with data_array[x]"
   ]
  },
  {
   "cell_type": "code",
   "execution_count": 3,
   "metadata": {},
   "outputs": [
    {
     "name": "stdout",
     "output_type": "stream",
     "text": [
      "   acousticness  danceability    energy  instrumentalness  liveness  \\\n",
      "0      0.078285      0.314572  0.309468          0.089045  0.354460   \n",
      "1      0.907184      0.608202  0.487272          0.952051  0.147523   \n",
      "2      0.902820      0.417216  0.192552          0.941335  0.103392   \n",
      "3      0.514903      0.297365  0.716660          0.884307  0.164822   \n",
      "4      0.420525      0.419414  0.800006          0.917086  0.188013   \n",
      "\n",
      "   speechiness    tempo   valence  \n",
      "0     0.051375  127.856  0.212025  \n",
      "1     0.055712  127.945  0.655503  \n",
      "2     0.034817  110.647  0.114613  \n",
      "3     0.045856  157.893  0.704008  \n",
      "4     0.046945   98.782  0.856437  \n"
     ]
    }
   ],
   "source": [
    "print(soundData.head())"
   ]
  },
  {
   "cell_type": "code",
   "execution_count": 4,
   "metadata": {},
   "outputs": [],
   "source": [
    "#print(data_array[0])"
   ]
  },
  {
   "cell_type": "code",
   "execution_count": 5,
   "metadata": {},
   "outputs": [],
   "source": [
    "#data.shape"
   ]
  },
  {
   "cell_type": "code",
   "execution_count": 6,
   "metadata": {},
   "outputs": [],
   "source": [
    "#data_array[:5]"
   ]
  },
  {
   "cell_type": "markdown",
   "metadata": {},
   "source": [
    "Goal here: PCA "
   ]
  },
  {
   "cell_type": "code",
   "execution_count": 18,
   "metadata": {},
   "outputs": [],
   "source": [
    "pca = PCA(n_components = 4)\n",
    "numpy.nan_to_num(soundData)\n",
    "numpy.isfinite(soundData).all()\n",
    "for index, row in soundData.iterrows():\n",
    "    if(not numpy.isfinite(row[\"danceability\"])):\n",
    "       row[\"danceability\"] = 0 \n",
    "    if(not numpy.isfinite(row[\"speechiness\"])):\n",
    "       row[\"speechiness\"] = 0 \n",
    "    if(not numpy.isfinite(row[\"valence\"])):\n",
    "       row[\"valence\"] = 0 \n",
    "eigenbasis = pca.fit(soundData)\n"
   ]
  },
  {
   "cell_type": "code",
   "execution_count": 19,
   "metadata": {},
   "outputs": [],
   "source": [
    "dataReduced = eigenbasis.transform(soundData)\n"
   ]
  },
  {
   "cell_type": "code",
   "execution_count": 20,
   "metadata": {},
   "outputs": [
    {
     "data": {
      "text/plain": [
       "(10000, 4)"
      ]
     },
     "execution_count": 20,
     "metadata": {},
     "output_type": "execute_result"
    }
   ],
   "source": [
    "dataReduced.shape\n"
   ]
  },
  {
   "cell_type": "code",
   "execution_count": 21,
   "metadata": {},
   "outputs": [
    {
     "data": {
      "text/plain": [
       "array([[ 4.97565375e+00,  2.78635284e-01,  3.90428255e-01,\n",
       "         6.83924833e-01],\n",
       "       [ 5.06488366e+00, -2.46541173e-01, -1.01978807e-01,\n",
       "        -3.91757113e-01],\n",
       "       [-1.22341375e+01, -4.59534346e-01, -3.19954672e-01,\n",
       "         1.37892922e-01],\n",
       "       [ 3.50137408e+01,  9.86846189e-02, -1.26204703e-01,\n",
       "        -2.16281971e-01],\n",
       "       [-2.40967091e+01,  3.64175535e-01, -9.78915899e-02,\n",
       "        -4.33026252e-01],\n",
       "       [-2.38983083e+01,  1.83445613e-01,  7.80016355e-01,\n",
       "         1.17117621e-01],\n",
       "       [-1.32387050e+01,  1.73085869e-01, -1.82191627e-02,\n",
       "        -5.84083773e-01],\n",
       "       [ 1.72117776e+01,  5.57604532e-01, -2.05015650e-01,\n",
       "         9.29150518e-02],\n",
       "       [ 1.02480210e+01, -3.80944182e-01,  5.08714779e-01,\n",
       "         4.46179668e-02],\n",
       "       [ 3.13282303e+00, -3.84111032e-01, -2.45833661e-01,\n",
       "         3.46269461e-02]])"
      ]
     },
     "execution_count": 21,
     "metadata": {},
     "output_type": "execute_result"
    }
   ],
   "source": [
    "dataReduced[:10]"
   ]
  },
  {
   "cell_type": "code",
   "execution_count": null,
   "metadata": {},
   "outputs": [],
   "source": []
  }
 ],
 "metadata": {
  "kernelspec": {
   "display_name": "Python 3",
   "language": "python",
   "name": "python3"
  },
  "language_info": {
   "codemirror_mode": {
    "name": "ipython",
    "version": 3
   },
   "file_extension": ".py",
   "mimetype": "text/x-python",
   "name": "python",
   "nbconvert_exporter": "python",
   "pygments_lexer": "ipython3",
   "version": "3.6.5"
  }
 },
 "nbformat": 4,
 "nbformat_minor": 2
}
